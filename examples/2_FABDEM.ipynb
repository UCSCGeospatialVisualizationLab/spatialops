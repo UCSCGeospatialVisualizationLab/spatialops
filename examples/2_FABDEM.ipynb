{
 "cells": [
  {
   "cell_type": "code",
   "execution_count": 9,
   "metadata": {},
   "outputs": [
    {
     "data": {
      "text/plain": [
       "<spatialoperations.SpatialOperations at 0x7494300fb620>"
      ]
     },
     "execution_count": 9,
     "metadata": {},
     "output_type": "execute_result"
    }
   ],
   "source": [
    "from spatialoperations import SpatialOperations\n",
    "from spatialoperations.config import SpatialOpsConfig\n",
    "\n",
    "\n",
    "config = SpatialOpsConfig(\n",
    "    root=\"s3://cl-lake-test/sids-test-tough-topobathy\",\n",
    "    dx=0.00026977476123492776,\n",
    "    epsg=4326,\n",
    "    bounds=[-179.99, -50, 179.99, 50],\n",
    "    chunk_size=5000,\n",
    ")\n",
    "so = SpatialOperations(config=config)\n",
    "so"
   ]
  },
  {
   "cell_type": "code",
   "execution_count": 13,
   "metadata": {},
   "outputs": [
    {
     "data": {
      "text/html": [
       "<div>\n",
       "<style scoped>\n",
       "    .dataframe tbody tr th:only-of-type {\n",
       "        vertical-align: middle;\n",
       "    }\n",
       "\n",
       "    .dataframe tbody tr th {\n",
       "        vertical-align: top;\n",
       "    }\n",
       "\n",
       "    .dataframe thead th {\n",
       "        text-align: right;\n",
       "    }\n",
       "</style>\n",
       "<table border=\"1\" class=\"dataframe\">\n",
       "  <thead>\n",
       "    <tr style=\"text-align: right;\">\n",
       "      <th></th>\n",
       "      <th>region_id</th>\n",
       "      <th>HAS_REEFS</th>\n",
       "      <th>NumberOfCe</th>\n",
       "      <th>PolygonAre</th>\n",
       "      <th>ACADataAva</th>\n",
       "      <th>ACABenthic</th>\n",
       "      <th>ACABathyme</th>\n",
       "      <th>utmzone</th>\n",
       "      <th>utmcode</th>\n",
       "      <th>Subreg_Name</th>\n",
       "      <th>geometry</th>\n",
       "    </tr>\n",
       "  </thead>\n",
       "  <tbody>\n",
       "    <tr>\n",
       "      <th>52</th>\n",
       "      <td>53</td>\n",
       "      <td>NaN</td>\n",
       "      <td>4.193852e+06</td>\n",
       "      <td>3.774467e+09</td>\n",
       "      <td>YES</td>\n",
       "      <td>YES</td>\n",
       "      <td>YES</td>\n",
       "      <td>56PN</td>\n",
       "      <td>32656</td>\n",
       "      <td>FSM_10</td>\n",
       "      <td>MULTIPOLYGON (((150.21069 9.05281, 150.53484 8...</td>\n",
       "    </tr>\n",
       "  </tbody>\n",
       "</table>\n",
       "</div>"
      ],
      "text/plain": [
       "    region_id  HAS_REEFS    NumberOfCe    PolygonAre ACADataAva ACABenthic  \\\n",
       "52         53        NaN  4.193852e+06  3.774467e+09        YES        YES   \n",
       "\n",
       "   ACABathyme utmzone utmcode Subreg_Name  \\\n",
       "52        YES    56PN   32656      FSM_10   \n",
       "\n",
       "                                             geometry  \n",
       "52  MULTIPOLYGON (((150.21069 9.05281, 150.53484 8...  "
      ]
     },
     "execution_count": 13,
     "metadata": {},
     "output_type": "execute_result"
    }
   ],
   "source": [
    "import geopandas as gpd\n",
    "import numpy as np\n",
    "\n",
    "countries = [\n",
    "    \"FSM_10\",\n",
    "    # \"FSM_05\",\n",
    "    # \"FSM_08\",\n",
    "    # \"FSM_21\",\n",
    "    # \"FSM_20\",\n",
    "    # \"FSM_18\",\n",
    "    # \"FSM_11\",\n",
    "    # \"KIR_09\"\n",
    "]\n",
    "gdf = gpd.read_file(\"/cccr-lab/001_projects/002_nbs-adapt/003_regions_study_units/All_Regions_Marina/02_Polygons_SIDS_20250701/Polygons_SIDS_20250701_final.gpkg\")   \n",
    "regions = gdf[\n",
    "    gdf[\"Subreg_Name\"].apply(lambda x: np.any([c in x for c in countries]))\n",
    "]\n",
    "regions\n",
    "\n",
    "\n",
    "\n",
    "\n",
    "\n",
    "\n",
    "\n",
    "\n",
    "\n"
   ]
  },
  {
   "cell_type": "code",
   "execution_count": 14,
   "metadata": {},
   "outputs": [
    {
     "data": {
      "text/plain": [
       "array(['/cccr-lab/000_data-repository/008_fabdem/tiles/N08E149_FABDEM_V1-2.tif',\n",
       "       '/cccr-lab/000_data-repository/008_fabdem/tiles/N08E150_FABDEM_V1-2.tif'],\n",
       "      dtype=object)"
      ]
     },
     "execution_count": 14,
     "metadata": {},
     "output_type": "execute_result"
    }
   ],
   "source": [
    "from glob import glob\n",
    "from spatialoperations.types.xrtypes import RasterLike\n",
    "import os\n",
    "import pandas as pd\n",
    "from shapely.geometry import box\n",
    "\n",
    "idxs=so.ro.zarr_manager.chunks_initialized(\n",
    "    \"ACA\",\n",
    "    \"topobathy/bathymetry\"\n",
    ")\n",
    "fabdem = glob('/cccr-lab/000_data-repository/008_fabdem/tiles/*.tif')\n",
    "\n",
    "def path_to_bounds(path):\n",
    "    fname = os.path.basename(path)\n",
    "    ll = fname.split(\"_\")[0]\n",
    "    north = ll.startswith(\"N\")\n",
    "    east = \"E\" in ll\n",
    "    \n",
    "    split_on_y = \"N\" if north else \"S\"\n",
    "    split_on_x = \"E\" if east else \"W\"\n",
    "    \n",
    "    y, x = ll.replace(split_on_y, \"\").split(split_on_x)\n",
    "    x = float(x)\n",
    "    y = float(y)\n",
    "    \n",
    "    if not north:\n",
    "        y = -y\n",
    "        \n",
    "    if not east:\n",
    "        x = -x\n",
    "        \n",
    "    return box(x, y, x+1, y+1)\n",
    "\n",
    "df = pd.DataFrame(fabdem, columns=[\"path\"])\n",
    "df[\"bounds\"] = df[\"path\"].apply(path_to_bounds)\n",
    "bounds_gdf = gpd.GeoDataFrame(df, geometry=\"bounds\", crs=4326)\n",
    "bounds_gdf.head()\n",
    "\n",
    "joined = gpd.sjoin(bounds_gdf, regions, how=\"inner\")\n",
    "paths = joined[\"path\"].unique()\n",
    "paths"
   ]
  },
  {
   "cell_type": "code",
   "execution_count": 15,
   "metadata": {},
   "outputs": [
    {
     "name": "stderr",
     "output_type": "stream",
     "text": [
      "2it [00:00,  2.79it/s]\n"
     ]
    },
    {
     "data": {
      "text/plain": [
       "{'idx_0': RasterLike(_data=<xarray.DataArray (y: 3600, x: 3600)> Size: 52MB\n",
       " array([[nan, nan, nan, ..., nan, nan, nan],\n",
       "        [nan, nan, nan, ..., nan, nan, nan],\n",
       "        [nan, nan, nan, ..., nan, nan, nan],\n",
       "        ...,\n",
       "        [nan, nan, nan, ..., nan, nan, nan],\n",
       "        [nan, nan, nan, ..., nan, nan, nan],\n",
       "        [nan, nan, nan, ..., nan, nan, nan]], dtype=float32)\n",
       " Coordinates:\n",
       "     band         int64 8B 1\n",
       "   * x            (x) float64 29kB 149.0 149.0 149.0 149.0 ... 150.0 150.0 150.0\n",
       "   * y            (y) float64 29kB 9.0 9.0 8.999 8.999 ... 8.001 8.001 8.001 8.0\n",
       "     spatial_ref  int64 8B 0, name='N08E149_FABDEM_V1-2'),\n",
       " 'idx_1': RasterLike(_data=<xarray.DataArray (y: 3600, x: 3600)> Size: 52MB\n",
       " array([[nan, nan, nan, ..., nan, nan, nan],\n",
       "        [nan, nan, nan, ..., nan, nan, nan],\n",
       "        [nan, nan, nan, ..., nan, nan, nan],\n",
       "        ...,\n",
       "        [nan, nan, nan, ..., nan, nan, nan],\n",
       "        [nan, nan, nan, ..., nan, nan, nan],\n",
       "        [nan, nan, nan, ..., nan, nan, nan]], dtype=float32)\n",
       " Coordinates:\n",
       "     band         int64 8B 1\n",
       "   * x            (x) float64 29kB 150.0 150.0 150.0 150.0 ... 151.0 151.0 151.0\n",
       "   * y            (y) float64 29kB 9.0 9.0 8.999 8.999 ... 8.001 8.001 8.001 8.0\n",
       "     spatial_ref  int64 8B 0, name='N08E150_FABDEM_V1-2')}"
      ]
     },
     "execution_count": 15,
     "metadata": {},
     "output_type": "execute_result"
    }
   ],
   "source": [
    "import rioxarray as rxr\n",
    "import geopandas as gpd\n",
    "import os\n",
    "from tqdm import tqdm\n",
    "from glob import glob\n",
    "from spatialoperations.types.xrtypes import RasterLike\n",
    "import xarray as xr\n",
    "\n",
    "def safe_get_region(path):\n",
    "    try:\n",
    "        ds = rxr.open_rasterio(path).isel(band=0)\n",
    "        init_crs = ds.rio.crs\n",
    "        ds = xr.where(ds > 0, ds, np.nan)\n",
    "        ds.rio.write_crs(init_crs, inplace=True)\n",
    "        return RasterLike(ds, name=path.split('/')[-1].split('.')[0])\n",
    "    except Exception as e:\n",
    "        return None\n",
    "        \n",
    "FABDEM = {\n",
    "    f\"idx_{idx}\": safe_get_region(path)\n",
    "    for idx, path in tqdm(enumerate(paths))\n",
    "}\n",
    "\n",
    "FABDEM = {\n",
    "    k: v for k, v in FABDEM.items() if v is not None\n",
    "}\n",
    "\n",
    "FABDEM\n",
    "# FABDEM.keys()\n"
   ]
  },
  {
   "cell_type": "code",
   "execution_count": 16,
   "metadata": {},
   "outputs": [
    {
     "name": "stderr",
     "output_type": "stream",
     "text": [
      "100%|█████████████████████████████████████████| 4/4 [00:00<00:00, 64280.52it/s]\n",
      "100%|█████████████████████████████████████████| 4/4 [00:00<00:00, 42799.02it/s]\n"
     ]
    }
   ],
   "source": [
    "from spatialoperations import rasterops\n",
    "from spatialoperations.rasterops import intake\n",
    "from spatialoperations import compute\n",
    "\n",
    "jlc = compute.JoblibCompute(n_jobs=20)\n",
    "\n",
    "so.ro.zarr_manager.root_group.create_group(\"topobathy/topography\")\n",
    "so.ro.intake.import_multi_raster_to_zarr_with_prep(\n",
    "    FABDEM, \n",
    "    \"topobathy/topography\", \n",
    "    output_path=\"FABDEM\",\n",
    "    compute=jlc,\n",
    ")"
   ]
  }
 ],
 "metadata": {
  "kernelspec": {
   "display_name": "Python 3 (ipykernel)",
   "language": "python",
   "name": "python3"
  }
 },
 "nbformat": 4,
 "nbformat_minor": 2
}
