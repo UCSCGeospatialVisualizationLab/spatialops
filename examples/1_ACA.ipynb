{
 "cells": [
  {
   "cell_type": "code",
   "execution_count": 1,
   "metadata": {},
   "outputs": [
    {
     "data": {
      "text/plain": [
       "<spatialoperations.SpatialOperations at 0x7494a6078380>"
      ]
     },
     "execution_count": 1,
     "metadata": {},
     "output_type": "execute_result"
    }
   ],
   "source": [
    "from spatialoperations import SpatialOperations\n",
    "from spatialoperations.config import SpatialOpsConfig\n",
    "\n",
    "\n",
    "config = SpatialOpsConfig(\n",
    "    root=\"s3://cl-lake-test/sids-test-tough-topobathy\",\n",
    "    dx=0.00026977476123492776,\n",
    "    epsg=4326,\n",
    "    bounds=[-179.99, -50, 179.99, 50],\n",
    "    chunk_size=5000,\n",
    ")\n",
    "so = SpatialOperations(config=config)\n",
    "so"
   ]
  },
  {
   "cell_type": "code",
   "execution_count": 2,
   "metadata": {},
   "outputs": [
    {
     "name": "stderr",
     "output_type": "stream",
     "text": [
      "0it [00:00, ?it/s]"
     ]
    },
    {
     "name": "stderr",
     "output_type": "stream",
     "text": [
      "5it [00:04,  1.03it/s]\n"
     ]
    },
    {
     "data": {
      "text/plain": [
       "{'FSM_10': RasterLike(_data=<xarray.DataArray (y: 6102, x: 11001)> Size: 537MB\n",
       " array([[nan, nan, nan, ..., nan, nan, nan],\n",
       "        [nan, nan, nan, ..., nan, nan, nan],\n",
       "        [nan, nan, nan, ..., nan, nan, nan],\n",
       "        ...,\n",
       "        [nan, nan, nan, ..., nan, nan, nan],\n",
       "        [nan, nan, nan, ..., nan, nan, nan],\n",
       "        [nan, nan, nan, ..., nan, nan, nan]])\n",
       " Coordinates:\n",
       "     band         int64 8B 1\n",
       "   * x            (x) float64 88kB 149.5 149.5 149.5 149.5 ... 150.5 150.5 150.5\n",
       "   * y            (y) float64 49kB 9.053 9.053 9.053 9.053 ... 8.505 8.505 8.505\n",
       "     spatial_ref  int64 8B 0, name='FSM_10-20250701210124'),\n",
       " 'FSM_05': RasterLike(_data=<xarray.DataArray (y: 3051, x: 11500)> Size: 281MB\n",
       " array([[nan, nan, nan, ..., nan, nan, nan],\n",
       "        [nan, nan, nan, ..., nan, nan, nan],\n",
       "        [nan, nan, nan, ..., nan, nan, nan],\n",
       "        ...,\n",
       "        [nan, nan, nan, ..., nan, nan, nan],\n",
       "        [nan, nan, nan, ..., nan, nan, nan],\n",
       "        [nan, nan, nan, ..., nan, nan, nan]])\n",
       " Coordinates:\n",
       "     band         int64 8B 1\n",
       "   * x            (x) float64 92kB 146.1 146.1 146.1 146.1 ... 147.1 147.1 147.1\n",
       "   * y            (y) float64 24kB 7.598 7.598 7.598 7.598 ... 7.324 7.324 7.324\n",
       "     spatial_ref  int64 8B 0, name='FSM_05-20250626005211'),\n",
       " 'FSM_08': RasterLike(_data=<xarray.DataArray (y: 5486, x: 9124)> Size: 400MB\n",
       " array([[nan, nan, nan, ..., nan, nan, nan],\n",
       "        [nan, nan, nan, ..., nan, nan, nan],\n",
       "        [nan, nan, nan, ..., nan, nan, nan],\n",
       "        ...,\n",
       "        [nan, nan, nan, ..., nan, nan, nan],\n",
       "        [nan, nan, nan, ..., nan, nan, nan],\n",
       "        [nan, nan, nan, ..., nan, nan, nan]])\n",
       " Coordinates:\n",
       "     band         int64 8B 1\n",
       "   * x            (x) float64 73kB 151.6 151.6 151.6 151.6 ... 152.4 152.4 152.4\n",
       "   * y            (y) float64 44kB 8.852 8.852 8.852 8.852 ... 8.359 8.359 8.359\n",
       "     spatial_ref  int64 8B 0, name='FSM_08-20250626005401'),\n",
       " 'FSM_11': RasterLike(_data=<xarray.DataArray (y: 2250, x: 2357)> Size: 42MB\n",
       " array([[nan, nan, nan, ..., nan, nan, nan],\n",
       "        [nan, nan, nan, ..., nan, nan, nan],\n",
       "        [nan, nan, nan, ..., nan, nan, nan],\n",
       "        ...,\n",
       "        [nan, nan, nan, ..., nan, nan, nan],\n",
       "        [nan, nan, nan, ..., nan, nan, nan],\n",
       "        [nan, nan, nan, ..., nan, nan, nan]])\n",
       " Coordinates:\n",
       "     band         int64 8B 1\n",
       "   * x            (x) float64 19kB 159.7 159.7 159.7 159.7 ... 159.9 159.9 159.9\n",
       "   * y            (y) float64 18kB 6.781 6.781 6.78 6.78 ... 6.579 6.579 6.579\n",
       "     spatial_ref  int64 8B 0, name='FSM_11-20250701210202'),\n",
       " 'KIR_09': RasterLike(_data=<xarray.DataArray (y: 8578, x: 10817)> Size: 742MB\n",
       " array([[-10.33, -14.09, -12.95, ...,  -8.52,  -8.38,  -9.87],\n",
       "        [-16.52, -14.9 , -14.59, ...,  -9.85, -10.82, -16.72],\n",
       "        [-15.78, -15.08, -15.38, ...,  -7.41, -10.1 , -17.14],\n",
       "        ...,\n",
       "        [-14.03, -14.47, -10.74, ..., -17.8 , -13.48, -20.33],\n",
       "        [-14.87,  -9.78, -11.5 , ...,  -9.89, -11.05,  -9.5 ],\n",
       "        [ -9.12, -13.71, -13.31, ..., -15.66, -14.54,  -9.15]])\n",
       " Coordinates:\n",
       "     band         int64 8B 1\n",
       "   * x            (x) float64 87kB 173.1 173.1 173.1 173.1 ... 174.1 174.1 174.1\n",
       "   * y            (y) float64 69kB 0.7017 0.7016 0.7015 ... -0.06868 -0.06877\n",
       "     spatial_ref  int64 8B 0, name='KIR_09-20250701211947')}"
      ]
     },
     "execution_count": 2,
     "metadata": {},
     "output_type": "execute_result"
    }
   ],
   "source": [
    "import rioxarray as rxr\n",
    "import geopandas as gpd\n",
    "import os\n",
    "from tqdm import tqdm\n",
    "from glob import glob\n",
    "from spatialoperations.types.xrtypes import RasterLike\n",
    "import numpy as np\n",
    "\n",
    "countries = [\n",
    "    \"FSM_10\",\n",
    "    \"FSM_05\",\n",
    "    \"FSM_08\",\n",
    "    \"FSM_21\",\n",
    "    \"FSM_20\",\n",
    "    \"FSM_18\",\n",
    "    \"FSM_11\",\n",
    "    \"KIR_09\"\n",
    "]\n",
    "ROOT = \"/cccr-lab/001_projects/002_nbs-adapt/003_regions_study_units/All_Regions_Marina/02_Polygons_SIDS_20250701/02_ACA_Benthic_Bathymetry_Data/\"\n",
    "\n",
    "paths = []\n",
    "for country in countries:\n",
    "    paths.extend(glob(os.path.join(ROOT, f'{country}*/Bathymetry---composite-depth/bathymetry_0.tif')))\n",
    "\n",
    "def safe_get_region(path):\n",
    "    try:\n",
    "        ds = rxr.open_rasterio(path).isel(band=0)\n",
    "        init_crs = ds.rio.crs\n",
    "        ds = ds * -.01 # convert to meters\n",
    "        ds = ds.where(ds < 0, np.nan)\n",
    "        ds.rio.write_crs(init_crs, inplace=True)\n",
    "        return RasterLike(ds, name=path.split('/')[-3])\n",
    "    except Exception as e:\n",
    "        return None\n",
    "        \n",
    "ACA = {\n",
    "    path.split('/')[-3].split('-')[0]: safe_get_region(path)\n",
    "    for idx, path in tqdm(enumerate(paths))\n",
    "}\n",
    "\n",
    "ACA = {\n",
    "    k: v for k, v in ACA.items() if v is not None\n",
    "}\n",
    "\n",
    "ACA"
   ]
  },
  {
   "cell_type": "code",
   "execution_count": 3,
   "metadata": {},
   "outputs": [],
   "source": [
    "# import hvplot.xarray\n",
    "\n",
    "# for name, raster in ACA.items():\n",
    "#     print(f\"Plotting {name}\")\n",
    "#     display(raster._data.hvplot.image(x='x', y='y', rasterize=True, cmap='viridis', title=name))\n",
    "#     break\n"
   ]
  },
  {
   "cell_type": "code",
   "execution_count": 5,
   "metadata": {},
   "outputs": [],
   "source": [
    "# so.ro.zarr_manager.root_group.create_group(\"topobathy/bathymetry\")"
   ]
  },
  {
   "cell_type": "code",
   "execution_count": 6,
   "metadata": {},
   "outputs": [
    {
     "name": "stderr",
     "output_type": "stream",
     "text": [
      "100%|█████████████████████████████████████████| 2/2 [00:00<00:00, 31895.85it/s]\n",
      "100%|█████████████████████████████████████████| 2/2 [00:00<00:00, 20919.22it/s]\n",
      "100%|█████████████████████████████████████████| 2/2 [00:00<00:00, 29852.70it/s]\n",
      "100%|█████████████████████████████████████████| 1/1 [00:00<00:00, 13400.33it/s]\n",
      "100%|█████████████████████████████████████████| 4/4 [00:00<00:00, 44979.13it/s]\n"
     ]
    }
   ],
   "source": [
    "from spatialoperations import rasterops\n",
    "from spatialoperations.rasterops import intake\n",
    "from spatialoperations import compute\n",
    "\n",
    "jlc = compute.JoblibCompute(n_jobs=20)\n",
    "\n",
    "so.ro.intake.import_multi_raster_to_zarr_with_prep(\n",
    "    ACA, \n",
    "    \"topobathy/bathymetry\", \n",
    "    output_path=\"ACA\",\n",
    "    compute=jlc,\n",
    ")"
   ]
  },
  {
   "cell_type": "code",
   "execution_count": 8,
   "metadata": {},
   "outputs": [
    {
     "data": {
      "text/plain": [
       "[(30, 244),\n",
       " (30, 245),\n",
       " (30, 246),\n",
       " (31, 241),\n",
       " (31, 242),\n",
       " (32, 251),\n",
       " (36, 261),\n",
       " (36, 262),\n",
       " (37, 261),\n",
       " (37, 262)]"
      ]
     },
     "execution_count": 8,
     "metadata": {},
     "output_type": "execute_result"
    }
   ],
   "source": [
    "so.ro.zarr_manager.chunks_initialized(\n",
    "    \"ACA\",\n",
    "    \"topobathy/bathymetry\"\n",
    ")"
   ]
  }
 ],
 "metadata": {
  "kernelspec": {
   "display_name": "Python 3 (ipykernel)",
   "language": "python",
   "name": "python3"
  }
 },
 "nbformat": 4,
 "nbformat_minor": 2
}
