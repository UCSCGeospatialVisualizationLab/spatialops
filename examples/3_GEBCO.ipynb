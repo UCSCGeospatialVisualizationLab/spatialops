{
 "cells": [
  {
   "cell_type": "code",
   "execution_count": 1,
   "metadata": {},
   "outputs": [
    {
     "data": {
      "text/plain": [
       "<spatialoperations.SpatialOperations at 0x7446e2ef4bf0>"
      ]
     },
     "execution_count": 1,
     "metadata": {},
     "output_type": "execute_result"
    }
   ],
   "source": [
    "from spatialoperations import SpatialOperations\n",
    "from spatialoperations.config import SpatialOpsConfig\n",
    "\n",
    "\n",
    "config = SpatialOpsConfig(\n",
    "    root=\"s3://cl-lake-test/sids-test-tough-topobathy\",\n",
    "    dx=0.00026977476123492776,\n",
    "    epsg=4326,\n",
    "    bounds=[-179.99, -50, 179.99, 50],\n",
    "    chunk_size=5000,\n",
    ")\n",
    "so = SpatialOperations(config=config)\n",
    "so"
   ]
  },
  {
   "cell_type": "code",
   "execution_count": 2,
   "metadata": {},
   "outputs": [
    {
     "data": {
      "text/html": [
       "<div>\n",
       "<style scoped>\n",
       "    .dataframe tbody tr th:only-of-type {\n",
       "        vertical-align: middle;\n",
       "    }\n",
       "\n",
       "    .dataframe tbody tr th {\n",
       "        vertical-align: top;\n",
       "    }\n",
       "\n",
       "    .dataframe thead th {\n",
       "        text-align: right;\n",
       "    }\n",
       "</style>\n",
       "<table border=\"1\" class=\"dataframe\">\n",
       "  <thead>\n",
       "    <tr style=\"text-align: right;\">\n",
       "      <th></th>\n",
       "      <th>region_id</th>\n",
       "      <th>HAS_REEFS</th>\n",
       "      <th>NumberOfCe</th>\n",
       "      <th>PolygonAre</th>\n",
       "      <th>ACADataAva</th>\n",
       "      <th>ACABenthic</th>\n",
       "      <th>ACABathyme</th>\n",
       "      <th>utmzone</th>\n",
       "      <th>utmcode</th>\n",
       "      <th>Subreg_Name</th>\n",
       "      <th>geometry</th>\n",
       "    </tr>\n",
       "  </thead>\n",
       "  <tbody>\n",
       "    <tr>\n",
       "      <th>52</th>\n",
       "      <td>53</td>\n",
       "      <td>NaN</td>\n",
       "      <td>4.193852e+06</td>\n",
       "      <td>3.774467e+09</td>\n",
       "      <td>YES</td>\n",
       "      <td>YES</td>\n",
       "      <td>YES</td>\n",
       "      <td>56PN</td>\n",
       "      <td>32656</td>\n",
       "      <td>FSM_10</td>\n",
       "      <td>MULTIPOLYGON (((150.21069 9.05281, 150.53484 8...</td>\n",
       "    </tr>\n",
       "  </tbody>\n",
       "</table>\n",
       "</div>"
      ],
      "text/plain": [
       "    region_id  HAS_REEFS    NumberOfCe    PolygonAre ACADataAva ACABenthic  \\\n",
       "52         53        NaN  4.193852e+06  3.774467e+09        YES        YES   \n",
       "\n",
       "   ACABathyme utmzone utmcode Subreg_Name  \\\n",
       "52        YES    56PN   32656      FSM_10   \n",
       "\n",
       "                                             geometry  \n",
       "52  MULTIPOLYGON (((150.21069 9.05281, 150.53484 8...  "
      ]
     },
     "execution_count": 2,
     "metadata": {},
     "output_type": "execute_result"
    }
   ],
   "source": [
    "import geopandas as gpd\n",
    "import numpy as np\n",
    "\n",
    "countries = [\n",
    "    \"FSM_10\",\n",
    "    # \"FSM_05\",\n",
    "    # \"FSM_08\",\n",
    "    # \"FSM_21\",\n",
    "    # \"FSM_20\",\n",
    "    # \"FSM_18\",\n",
    "    # \"FSM_11\",\n",
    "    # \"KIR_09\"\n",
    "]\n",
    "gdf = gpd.read_file(\"/cccr-lab/001_projects/002_nbs-adapt/003_regions_study_units/All_Regions_Marina/02_Polygons_SIDS_20250701/Polygons_SIDS_20250701_final.gpkg\")   \n",
    "regions = gdf[\n",
    "    gdf[\"Subreg_Name\"].apply(lambda x: np.any([c in x for c in countries]))\n",
    "]\n",
    "regions\n",
    "\n",
    "\n",
    "\n",
    "\n",
    "\n",
    "\n",
    "\n",
    "\n",
    "\n"
   ]
  },
  {
   "cell_type": "code",
   "execution_count": 3,
   "metadata": {},
   "outputs": [
    {
     "data": {
      "text/plain": [
       "array(['/cccr-lab/000_data-repository/011_GEBCO/GEBCO_2024/gebco_2024_n90.0_s0.0_w60.0_e180.0.tif'],\n",
       "      dtype=object)"
      ]
     },
     "execution_count": 3,
     "metadata": {},
     "output_type": "execute_result"
    }
   ],
   "source": [
    "from glob import glob\n",
    "from spatialoperations.types.xrtypes import RasterLike\n",
    "import os\n",
    "import pandas as pd\n",
    "from shapely.geometry import box\n",
    "import rioxarray as rxr\n",
    "\n",
    "idxs=so.ro.zarr_manager.chunks_initialized(\n",
    "    \"ACA\",\n",
    "    \"topobathy/bathymetry\"\n",
    ")\n",
    "fabdem = glob('/cccr-lab/000_data-repository/011_GEBCO/GEBCO_2024/*.tif')\n",
    "\n",
    "def path_to_bounds(path):\n",
    "    ds = rxr.open_rasterio(path)\n",
    "    return box(*ds.rio.bounds())\n",
    "\n",
    "df = pd.DataFrame(fabdem, columns=[\"path\"])\n",
    "df[\"bounds\"] = df[\"path\"].apply(path_to_bounds)\n",
    "bounds_gdf = gpd.GeoDataFrame(df, geometry=\"bounds\", crs=4326)\n",
    "bounds_gdf.head()\n",
    "\n",
    "joined = gpd.sjoin(bounds_gdf, regions, how=\"inner\")\n",
    "paths = joined[\"path\"].unique()\n",
    "paths"
   ]
  },
  {
   "cell_type": "code",
   "execution_count": 4,
   "metadata": {},
   "outputs": [
    {
     "name": "stderr",
     "output_type": "stream",
     "text": [
      "1it [00:05,  5.06s/it]\n"
     ]
    },
    {
     "data": {
      "text/plain": [
       "{'idx_0': RasterLike(_data=<xarray.DataArray 'elevation' (y: 21600, x: 28800)> Size: 5GB\n",
       " array([[-4236., -4236., -4236., ..., -4223., -4223., -4222.],\n",
       "        [-4235., -4235., -4236., ..., -4223., -4222., -4221.],\n",
       "        [-4234., -4235., -4236., ..., -4222., -4221., -4220.],\n",
       "        ...,\n",
       "        [-4564., -4572., -4577., ..., -5248., -5253., -5255.],\n",
       "        [-4563., -4571., -4577., ..., -5251., -5257., -5259.],\n",
       "        [-4563., -4570., -4576., ..., -5250., -5256., -5259.]])\n",
       " Coordinates:\n",
       "     band         int64 8B 1\n",
       "   * x            (x) float64 230kB 60.0 60.01 60.01 60.01 ... 180.0 180.0 180.0\n",
       "   * y            (y) float64 173kB 90.0 89.99 89.99 ... 0.01042 0.00625 0.002083\n",
       "     crs          int64 8B 0\n",
       "     spatial_ref  int64 8B 0, name='gebco_2024_n90')}"
      ]
     },
     "execution_count": 4,
     "metadata": {},
     "output_type": "execute_result"
    }
   ],
   "source": [
    "import rioxarray as rxr\n",
    "import geopandas as gpd\n",
    "import os\n",
    "from tqdm import tqdm\n",
    "from glob import glob\n",
    "from spatialoperations.types.xrtypes import RasterLike\n",
    "import xarray as xr\n",
    "\n",
    "def safe_get_region(path):\n",
    "    try:\n",
    "        ds = rxr.open_rasterio(path).isel(band=0)\n",
    "        init_crs = ds.rio.crs\n",
    "        ds = xr.where(ds < 0, ds, np.nan)\n",
    "        ds.rio.write_crs(init_crs, inplace=True)\n",
    "        return RasterLike(ds, name=path.split('/')[-1].split('.')[0])\n",
    "    except Exception as e:\n",
    "        return None\n",
    "        \n",
    "GEBCO = {\n",
    "    f\"idx_{idx}\": safe_get_region(path)\n",
    "    for idx, path in tqdm(enumerate(paths))\n",
    "}\n",
    "\n",
    "GEBCO = {\n",
    "    k: v for k, v in GEBCO.items() if v is not None\n",
    "}\n",
    "\n",
    "GEBCO\n",
    "# FABDEM.keys()\n"
   ]
  },
  {
   "cell_type": "code",
   "execution_count": 6,
   "metadata": {},
   "outputs": [
    {
     "name": "stderr",
     "output_type": "stream",
     "text": [
      "100%|██████████████████████████████████████| 10/10 [00:00<00:00, 142663.40it/s]\n"
     ]
    }
   ],
   "source": [
    "from spatialoperations import rasterops\n",
    "from spatialoperations.rasterops import intake\n",
    "from spatialoperations import compute\n",
    "import rasterio\n",
    "\n",
    "jlc = compute.JoblibCompute(n_jobs=20)\n",
    "\n",
    "so.ro.intake.import_multi_raster_to_zarr_with_prep(\n",
    "    GEBCO, \n",
    "    \"topobathy/bathymetry\", \n",
    "    idxs=idxs,\n",
    "    output_path=\"GEBCO\",\n",
    "    compute=jlc,\n",
    "    reproject_match_kwargs={\"reprojection_method\": rasterio.enums.Resampling.cubic}\n",
    ")"
   ]
  }
 ],
 "metadata": {
  "kernelspec": {
   "display_name": "Python 3 (ipykernel)",
   "language": "python",
   "name": "python3"
  }
 },
 "nbformat": 4,
 "nbformat_minor": 2
}
